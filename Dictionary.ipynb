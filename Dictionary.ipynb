{
 "cells": [
  {
   "attachments": {},
   "cell_type": "markdown",
   "metadata": {},
   "source": [
    "### Dictionary"
   ]
  },
  {
   "cell_type": "code",
   "execution_count": 3,
   "metadata": {},
   "outputs": [],
   "source": [
    "#A Python dictionary is a collection of key-value pairs.\n",
    "#It is a built-in data type in Python and is defined using curly braces {}. \n",
    "#Each key in a dictionary is unique and is associated with a value.\n",
    "#for example\n",
    "# you can use any data type inside a dic\n",
    "data_type_dic = {\"string\":\"Name\",\n",
    "                \"number\":12,\n",
    "                23:33,\n",
    "                \"boolean\":[True, False],\n",
    "                }\n",
    "\n"
   ]
  },
  {
   "cell_type": "markdown",
   "metadata": {},
   "source": []
  },
  {
   "cell_type": "code",
   "execution_count": 4,
   "metadata": {},
   "outputs": [
    {
     "name": "stdout",
     "output_type": "stream",
     "text": [
      "{'string': 'Name', 'number': 12, 23: 33, 'boolean': [True, False]}\n",
      "empty Dictionary => {}\n"
     ]
    }
   ],
   "source": [
    "print(data_type_dic)\n",
    "# to create empty Dictionary\n",
    "my_dict = {}\n",
    "print(\"empty Dictionary =>\",my_dict)"
   ]
  },
  {
   "cell_type": "code",
   "execution_count": null,
   "metadata": {},
   "outputs": [],
   "source": [
    "# duplicate data is not allowed in Dictinonary it will take last value in duplicate items\n",
    "org_detail = {\"Name\":\"sachin\",\n",
    "             \"age\":24,\n",
    "             'age':30}\n",
    "print(org_detail)# took age 30 "
   ]
  },
  {
   "cell_type": "code",
   "execution_count": 5,
   "metadata": {},
   "outputs": [
    {
     "name": "stdout",
     "output_type": "stream",
     "text": [
      "Name\n",
      "dict_keys(['string', 'number', 23, 'boolean'])\n",
      "dict_values(['Name', 12, 33, [True, False]])\n",
      "dict_items([('string', 'Name'), ('number', 12), (23, 33), ('boolean', [True, False])])\n"
     ]
    }
   ],
   "source": [
    "# to access Dic using get method\n",
    "\n",
    "#data_type_dic = {\"string\":\"Name\",\n",
    "#                 \"number\":12,\n",
    "#                 23:33,\n",
    "#                 \"boolean\":[True, False],\n",
    "#                 }\n",
    "x=data_type_dic.get(\"string\")\n",
    "print(x) # output = name\n",
    "\n",
    "# to access all keys from the dic\n",
    "keys = data_type_dic.keys()\n",
    "print(keys) # output = dict_keys(['string', 'number', 23, 'boolean'])\n",
    "\n",
    "\n",
    "\n",
    "# to access all the values from the dic\n",
    "values = data_type_dic.values()\n",
    "print(values) # output = dict_values(['Name', 12, 33, [True, False]])\n",
    "\n",
    "\n",
    "\n",
    "# The items() method will return each item in a dictionary, as tuples in a list.\n",
    "\n",
    "print(data_type_dic.items()) # output dict_items([('string', 'Name'), ('number', 12), (23, 33), ('boolean', [True, False])])"
   ]
  },
  {
   "cell_type": "code",
   "execution_count": 6,
   "metadata": {},
   "outputs": [
    {
     "name": "stdout",
     "output_type": "stream",
     "text": [
      "{'name': 'rahul', 'age': 29, 'height': 6}\n",
      "{'name': 'rahul', 'age': 29, 'height': 6, 'weight': 78}\n"
     ]
    }
   ],
   "source": [
    "## to update or add items in a dic\n",
    "## update() method is used to add/update\n",
    "# the dic if the item is already exist and if its not exist then it will add that item inside a dic\n",
    "new_dic ={\"name\":\"rahul\",\n",
    "         \"age\":29}\n",
    "\n",
    "# we have to add height in new_dic Dictionary\n",
    "# method one \n",
    "new_dic[\"height\"] =6\n",
    "print(new_dic) # output {'name': 'rahul', 'age': 29, 'height': 6}\n",
    "\n",
    "\n",
    "# 2nd method adding weight\n",
    "new_dic.update({\"weight\":78})\n",
    "print(new_dic)  # output {'name': 'rahul', 'age': 29, 'height': 6, 'weight': 78}\n"
   ]
  },
  {
   "cell_type": "code",
   "execution_count": 7,
   "metadata": {},
   "outputs": [
    {
     "name": "stdout",
     "output_type": "stream",
     "text": [
      "{'age': 29, 'height': 6, 'weight': 78}\n",
      "('weight', 78)\n",
      "{'age': 40}\n"
     ]
    }
   ],
   "source": [
    "## remove item from a dictinonary\n",
    "# taking the about dic , pop method is used to remove item\n",
    "new_dic.pop('name')\n",
    "print(new_dic) # output {'age': 29, 'height': 6, 'weight': 78}\n",
    "\n",
    "\n",
    "## The popitem() method removes the last inserted item\n",
    "print(new_dic.popitem())\n",
    "\n",
    "#The del keyword removes the item with the specified key name:\n",
    "\n",
    "new_data = {'number':233,\"age\":40}\n",
    "del new_data['number']\n",
    "print(new_data)\n"
   ]
  },
  {
   "attachments": {},
   "cell_type": "markdown",
   "metadata": {},
   "source": [
    "### Loop in Dictionary "
   ]
  },
  {
   "cell_type": "code",
   "execution_count": 8,
   "metadata": {},
   "outputs": [
    {
     "name": "stdout",
     "output_type": "stream",
     "text": [
      "Name1\n",
      "Name2\n",
      "###################  using keys() method############################################\n",
      "Name1\n",
      "Name2\n",
      "###############################################################\n",
      "Rahul\n",
      "saurabh\n",
      "#######################  using values() method########################################\n",
      "Rahul\n",
      "saurabh\n",
      "Name1 Rahul\n",
      "Name2 saurabh\n"
     ]
    }
   ],
   "source": [
    " name_dic = {'Name1': \"Rahul\",\n",
    "            \"Name2\":\"saurabh\"}\n",
    "\n",
    "# looping keys, can also use keys() to return keys of dic\n",
    "for x in name_dic:\n",
    "    print(x)\n",
    "    \n",
    "    \n",
    "print(\"###################  using keys() method############################################\")    \n",
    "for x in name_dic.keys():\n",
    "    print(x)\n",
    "    \n",
    "print(\"###############################################################\")    \n",
    "\n",
    "# looping values , can use values() to return values of dic\n",
    "for x in name_dic:\n",
    "    print(name_dic[x])\n",
    "print(\"#######################  using values() method########################################\")    \n",
    "for x in name_dic.values():\n",
    "    print(x)\n",
    "\n",
    "    # loooping both keys and values\n",
    "\n",
    "for x, y in name_dic.items():\n",
    "  print(x, y)    "
   ]
  },
  {
   "attachments": {},
   "cell_type": "markdown",
   "metadata": {},
   "source": [
    "### Questions "
   ]
  },
  {
   "cell_type": "code",
   "execution_count": 9,
   "metadata": {},
   "outputs": [],
   "source": [
    "# Exercise 1: Convert two lists into a dictionary\n",
    "# Exercise 2: Merge two Python dictionaries into one\n",
    "# Exercise 3: Print the value of key ‘history’ from the below dict\n",
    "# Exercise 4: Initialize dictionary with default values\n",
    "# Exercise 5: Create a dictionary by extracting the keys from a given dictionary\n",
    "# Exercise 6: Delete a list of keys from a dictionary\n",
    "# Exercise 7: Check if a value exists in a dictionary\n",
    "# Exercise 8: Rename key of a dictionary\n",
    "# Exercise 9: Get the key of a minimum value from the following dictionary\n",
    "# Exercise 10: Change value of a key in a nested dictionary"
   ]
  },
  {
   "cell_type": "code",
   "execution_count": null,
   "metadata": {},
   "outputs": [],
   "source": []
  }
 ],
 "metadata": {
  "kernelspec": {
   "display_name": "Python 3",
   "language": "python",
   "name": "python3"
  },
  "language_info": {
   "codemirror_mode": {
    "name": "ipython",
    "version": 3
   },
   "file_extension": ".py",
   "mimetype": "text/x-python",
   "name": "python",
   "nbconvert_exporter": "python",
   "pygments_lexer": "ipython3",
   "version": "3.10.4"
  },
  "orig_nbformat": 4,
  "vscode": {
   "interpreter": {
    "hash": "3ad933181bd8a04b432d3370b9dc3b0662ad032c4dfaa4e4f1596c548f763858"
   }
  }
 },
 "nbformat": 4,
 "nbformat_minor": 2
}
