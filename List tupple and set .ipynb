{
 "cells": [
  {
   "cell_type": "raw",
   "id": "0397ed6f",
   "metadata": {},
   "source": [
    "# LIST \n",
    "LIst are one of the most commonly used data scructures provided by python, they are a collection of iterable, mutable and ordered data , they can contain dupplicate data\n",
    "syntax includes square brackets [], ',' separated data \n",
    "example \n",
    "list1 = [1 , 2, 'abc', 3, 'def']\n",
    "list2 = []\n",
    "list3 = list((1,2,3))"
   ]
  },
  {
   "cell_type": "code",
   "execution_count": 10,
   "id": "f1c86642",
   "metadata": {},
   "outputs": [
    {
     "name": "stdout",
     "output_type": "stream",
     "text": [
      "[1, 2, 'abc', 3, 'def']\n",
      "['one', 'two', 'three', 'four']\n",
      "['one', 'two', 'three']\n",
      "4\n"
     ]
    }
   ],
   "source": [
    "list1 =[1 , 2, 'abc', 3, 'def']\n",
    "print(list1)\n",
    "#  New Items in a list can be added using append() method\n",
    "list2=[\"one\",\"two\",\"three\"] \n",
    "list2.append(\"four\")  \n",
    "print(list2)\n",
    "## removing element from a list \n",
    "list3=[\"one\",\"two\",\"three\", \"four\"]\n",
    "list3.pop()\n",
    "print(list3)\n",
    "# count method to count the speicfic element in a list\n",
    "list4= [1,2,3,6,2,2,2] \n",
    "print(list4.count(2))"
   ]
  },
  {
   "cell_type": "code",
   "execution_count": 14,
   "id": "27820e01",
   "metadata": {},
   "outputs": [
    {
     "name": "stdout",
     "output_type": "stream",
     "text": [
      "(1, 2, 'abc', 3, 4)\n",
      "{1, 2, 3, 4, 'abc'}\n"
     ]
    }
   ],
   "source": [
    "## Tuple and set \n",
    "# tuple are similar to list, this collection also has iterable , orderd and repetitive data just like list but unlike \n",
    "#list , tuples are immutable\n",
    "#Syntax includes curved brackets ( , ) with ‘,’ separated data.\n",
    "tuple1=(1,2,'abc', 3, 4)\n",
    "tuple2=()\n",
    "tuple3=tuple((1,3,5,\"hello\"))\n",
    "print(tuple1)\n",
    "# as it is immutable we cant append and pop data froma tuple\n",
    "\n",
    "#### set ) is a collecctionwhich is unordered , unchangable and unindexed\n",
    "# syntax includes curly brackets {, } with ',' separated data.\n",
    "set1 ={1,2,'abc', 3, 4}\n",
    "print(set1)"
   ]
  },
  {
   "cell_type": "code",
   "execution_count": null,
   "id": "06a9c6d1",
   "metadata": {},
   "outputs": [],
   "source": []
  }
 ],
 "metadata": {
  "kernelspec": {
   "display_name": "Python 3 (ipykernel)",
   "language": "python",
   "name": "python3"
  },
  "language_info": {
   "codemirror_mode": {
    "name": "ipython",
    "version": 3
   },
   "file_extension": ".py",
   "mimetype": "text/x-python",
   "name": "python",
   "nbconvert_exporter": "python",
   "pygments_lexer": "ipython3",
   "version": "3.11.0"
  }
 },
 "nbformat": 4,
 "nbformat_minor": 5
}
