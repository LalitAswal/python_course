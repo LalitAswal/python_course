{
 "cells": [
  {
   "cell_type": "markdown",
   "id": "dac5c7d5",
   "metadata": {},
   "source": [
    "# Python Basic\n"
   ]
  },
  {
   "cell_type": "markdown",
   "id": "8c079ba8",
   "metadata": {},
   "source": [
    "                        ######### Variable in python and datatype######################"
   ]
  },
  {
   "cell_type": "code",
   "execution_count": 32,
   "id": "8a39ebad",
   "metadata": {},
   "outputs": [
    {
     "name": "stdout",
     "output_type": "stream",
     "text": [
      "this is an example of single inverted Quote\n",
      " this is an example of double inverted Quotes\n",
      "\n",
      "for\n",
      "multiple\n",
      "lines use \n",
      "triple inverted \n",
      "Quotes \n",
      "\n"
     ]
    },
    {
     "data": {
      "text/plain": [
       "'this is python course'"
      ]
     },
     "execution_count": 32,
     "metadata": {},
     "output_type": "execute_result"
    }
   ],
   "source": [
    "#STRING \n",
    "### strings are always in single/double or triple inverted Quotes \n",
    "#eg\n",
    "print('this is an example of single inverted Quote')\n",
    "print(\" this is an example of double inverted Quotes\")\n",
    "\n",
    "\n",
    "\"this is python course\"# jupyter doesnt require print function for the output\n"
   ]
  },
  {
   "cell_type": "code",
   "execution_count": 2,
   "id": "cde807f9",
   "metadata": {
    "scrolled": true
   },
   "outputs": [
    {
     "name": "stdout",
     "output_type": "stream",
     "text": [
      "Length is = 6\n",
      "Python In Title\n",
      "PYTHON\n",
      "python\n",
      "python             \n",
      "python\n",
      "PYTHON python\n"
     ]
    }
   ],
   "source": [
    "# manupulating string using inbuild function \n",
    " #changing first word in capital \n",
    "language = 'python'\n",
    "# find the length of a string\n",
    "print('Length is =',len(language))\n",
    "print(('python in title').title())# every first letter is in capital\n",
    "print('python'.upper())# to make string in upper case \n",
    "print('python'.lower())# to make string in lower case\n",
    "print('python             ')# with whitespace\n",
    "print('python             '.rstrip())# removing white space from right  using rstrip function/lstrip from left strip from both side\n",
    "\n",
    "print(language.upper(),language.lower())# output PYTHON python"
   ]
  },
  {
   "cell_type": "markdown",
   "id": "81ede2e8",
   "metadata": {},
   "source": [
    "# NUMBERS"
   ]
  },
  {
   "cell_type": "code",
   "execution_count": 37,
   "id": "2ae41395",
   "metadata": {},
   "outputs": [
    {
     "name": "stdout",
     "output_type": "stream",
     "text": [
      "5\n",
      "1\n",
      "12\n",
      "2.0\n",
      "9\n"
     ]
    }
   ],
   "source": [
    "#adding \n",
    "print(2+3)\n",
    "#subtract\n",
    "print(3-2)\n",
    "#multiply\n",
    "print(3*4)\n",
    "#divide\n",
    "print(6/3)\n",
    "#exponents\n",
    "print(3**2)# double * denote as exponent"
   ]
  },
  {
   "cell_type": "code",
   "execution_count": 47,
   "id": "64075743",
   "metadata": {},
   "outputs": [
    {
     "name": "stdout",
     "output_type": "stream",
     "text": [
      "10\n",
      "2 5\n",
      "3.14\n"
     ]
    }
   ],
   "source": [
    "# assigning varibales\n",
    "x=10\n",
    "print(x)\n",
    "# multiple assigning \n",
    "x,y,z=9,2,5\n",
    "print(y,z)\n",
    "# constant variable  should be in all capital\n",
    "PI = 3.14\n",
    "print(PI)"
   ]
  },
  {
   "cell_type": "markdown",
   "id": "eeb98f4a",
   "metadata": {},
   "source": [
    "# LIST"
   ]
  },
  {
   "cell_type": "code",
   "execution_count": 4,
   "id": "c7fe187b",
   "metadata": {},
   "outputs": [
    {
     "name": "stdout",
     "output_type": "stream",
     "text": [
      "charley\n",
      "['ducati', 'yamha', 'suzuki']\n",
      "['ducati', 'yamha', 'suzuki', 'honda']\n",
      "['ducati', 'yamha', 'Bajaj', 'suzuki', 'honda']\n",
      "remove from pop function ['ducati', 'yamha', 'Bajaj', 'suzuki']\n",
      "['ducati', 'yamha', 'suzuki']\n",
      "['ducati', 'yamha']\n",
      "['audi', 'bmw', 'honda', 'hundai', 'volvo']\n",
      "['audi', 'bmw', 'honda', 'hundai', 'volvo']\n",
      "['bmw', 'audi', 'honda', 'hundai', 'volvo']\n",
      "['volvo', 'hundai', 'honda', 'bmw', 'audi']\n",
      "['volvo', 'hundai', 'honda', 'bmw', 'audi']\n",
      "['audi', 'honda', 'hundai']\n",
      "67\n",
      "1\n",
      "112\n"
     ]
    }
   ],
   "source": [
    "  #List is a collection of items\n",
    "#example     \n",
    "name=['Tom', 'Barney', 'charley','Harry']  #use of square bracket to create or denote a list\n",
    "# accessing the element in a list\n",
    "print(name[2])# to accessing charley here 2 is the index of charley or the name you want to access\n",
    "# indexing starting at 0 not with 1\n",
    "\n",
    "#==============================================================================================================#\n",
    "# adding changing and removing elements from the list\n",
    "motorcycles =['honda', 'yamha', 'suzuki']\n",
    "\n",
    "####changing#############\n",
    "# now we have to change the 0 index from motorcycle list\n",
    "motorcycles[0]= 'ducati'\n",
    "print(motorcycles)\n",
    "\n",
    "####### adding #########\n",
    "# adding element inside a list at the end ( append method)\n",
    "motorcycles.append('honda')\n",
    "print(motorcycles)\n",
    "\n",
    "#adding element in a specific index ( insert method)\n",
    "motorcycles.insert(2,'Bajaj')\n",
    "print(motorcycles)\n",
    "######### removing #########\n",
    "# removing element from a list\n",
    "########### removing element from a specific index\n",
    "motorcycles.pop()\n",
    "print('remove from pop function',motorcycles)\n",
    "motorcycles.remove('Bajaj')# inside remove you have to  mention the name of the element which you want to remove\n",
    "print(motorcycles)\n",
    "del motorcycles[2]# removing 2nd index element\n",
    "print(motorcycles)\n",
    "\n",
    "##### sorting and reversing of a list  ####\n",
    "#sorting\n",
    "cars =['bmw', 'audi','honda', 'hundai','volvo']\n",
    "cars.sort()\n",
    "print(cars)\n",
    "# temporary sorting but not affecting original list \n",
    "cars2 =['bmw', 'audi','honda', 'hundai','volvo']\n",
    "print(sorted(cars2))\n",
    "print(cars2)\n",
    "\n",
    "# reversing a string\n",
    "cars.reverse()\n",
    "print(cars)\n",
    "## using reversed function ( doesnt affect original list)\n",
    "reversed(cars)\n",
    "print(cars)\n",
    "\n",
    "\n",
    "#indexing in list\n",
    "car  =['bmw', 'audi','honda', 'hundai','volvo']\n",
    "print(car[1:4])# it means 1st index to 4th index in car list\n",
    "# cars[start:stop:step]\n",
    "#start= from which index you want to start \n",
    "# stop: at what index you want to stop \n",
    "# step how many element you want to skip from 1st 2nd , 2nd to 3rd  so on.......\n",
    "####==================================MAX=MIN=SUM=========================================######\n",
    "digits =[1,3,5,6,2,4,11,6,7,67]\n",
    "\n",
    "# find max\n",
    "print(max(digits))\n",
    "print(min(digits))\n",
    "print(sum(digits))"
   ]
  },
  {
   "cell_type": "markdown",
   "id": "bfaf314b",
   "metadata": {},
   "source": [
    "##### QUESTION ON THE ABOVE TOPIC ##########\n"
   ]
  },
  {
   "cell_type": "code",
   "execution_count": 5,
   "id": "0d2623af",
   "metadata": {},
   "outputs": [],
   "source": [
    "#Question 1)  x= ['ducati', 'yamha', 'Bajaj', 'suzuki', 'honda']  make  yamha first letter capital\n",
    "#Question 2 ) my_list = ['p','r','o','b','e']  add L E W then remove p b e\n",
    "#Question 3) x =['ducati', 'yamha', 'Bajaj', 'suzuki', 'honda',my_list]  remove p r o \n",
    "#Question 4) numbers = [100,10,5,1,2,7,5] , output should be 5 less then example numbers = [95,5,0,-4,-3,2,5]\n",
    "# for more practice ::::::::::::>>>>    \n",
    "#https://www.sanfoundry.com/python-mcqs-lists-1/\n",
    "#https://www.sanfoundry.com/python-question-bank/\n"
   ]
  },
  {
   "cell_type": "markdown",
   "id": "71a8bd95",
   "metadata": {},
   "source": []
  },
  {
   "cell_type": "code",
   "execution_count": null,
   "id": "279443ed",
   "metadata": {},
   "outputs": [],
   "source": []
  }
 ],
 "metadata": {
  "kernelspec": {
   "display_name": "Python 3 (ipykernel)",
   "language": "python",
   "name": "python3"
  },
  "language_info": {
   "codemirror_mode": {
    "name": "ipython",
    "version": 3
   },
   "file_extension": ".py",
   "mimetype": "text/x-python",
   "name": "python",
   "nbconvert_exporter": "python",
   "pygments_lexer": "ipython3",
   "version": "3.11.0"
  }
 },
 "nbformat": 4,
 "nbformat_minor": 5
}
