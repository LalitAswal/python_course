{
 "cells": [
  {
   "cell_type": "code",
   "execution_count": 3,
   "id": "f7f39eb8",
   "metadata": {},
   "outputs": [
    {
     "name": "stdout",
     "output_type": "stream",
     "text": [
      "5\n",
      "12\n"
     ]
    }
   ],
   "source": [
    "## function in python\n",
    "## def keyword is reserve for function and is always start from small letters\n",
    "# example function without return\n",
    "def count(x):\n",
    "    print(len(x))\n",
    "count([1,2,3,4,5]) \n",
    "## function with return\n",
    "def count2(t):\n",
    "    return len(t)\n",
    "print(count2([1,3,4,5,33,4,3,43,4,3,4,3]))"
   ]
  },
  {
   "cell_type": "code",
   "execution_count": 4,
   "id": "e8800ef5",
   "metadata": {},
   "outputs": [
    {
     "name": "stdout",
     "output_type": "stream",
     "text": [
      "5\n"
     ]
    }
   ],
   "source": [
    "##classes in python, class keyword is revesed for creating class, start with capital letter\n",
    "class Myclass:\n",
    "    x=5\n",
    "p1=Myclass()# p1 here is the object of class Myclass\n",
    "print(p1.x)# printing the value of x which is in class Myclass"
   ]
  },
  {
   "cell_type": "code",
   "execution_count": 20,
   "id": "33ab9eef",
   "metadata": {},
   "outputs": [
    {
     "name": "stdout",
     "output_type": "stream",
     "text": [
      "My name is lalit and age is  30\n"
     ]
    }
   ],
   "source": [
    "### __init__ function function doesnt need to call( call automatically)\n",
    "class Person:\n",
    "    def __init__(self, name,age):\n",
    "        self.name = name # self is required to access name and age variable in other function\n",
    "        self.age = age\n",
    "    def myName(self):\n",
    "#         print('my name is '+ self.name)\n",
    "        return 'My name is '+ self.name+' and age is  '+ str(self.age)\n",
    "\n",
    "o1=Person('lalit', 30)\n",
    "print(o1.myName())"
   ]
  },
  {
   "cell_type": "markdown",
   "id": "f55d7dda",
   "metadata": {},
   "source": [
    "OPPS IN PYTHON"
   ]
  },
  {
   "cell_type": "code",
   "execution_count": 24,
   "id": "d16d991d",
   "metadata": {},
   "outputs": [
    {
     "name": "stdout",
     "output_type": "stream",
     "text": [
      "Rahul\n",
      "886012\n",
      "My name is Rahul\n",
      "IdNumber: 886012\n",
      "Post: Intern\n"
     ]
    }
   ],
   "source": [
    "# Python inheritance\n",
    "\n",
    "# Inheritance is the capability of one class to derive or inherit the properties from another class.\n",
    "# parent class\n",
    "class Person(object):\n",
    " \n",
    "    # __init__ is known as the constructor\n",
    "    def __init__(self, name, idnumber):\n",
    "        self.name = name\n",
    "        self.idnumber = idnumber\n",
    " \n",
    "    def display(self):\n",
    "        print(self.name)\n",
    "        print(self.idnumber)\n",
    "         \n",
    "    def details(self):\n",
    "        print(\"My name is {}\".format(self.name))\n",
    "        print(\"IdNumber: {}\".format(self.idnumber))\n",
    "     \n",
    "# child class\n",
    "class Employee(Person):\n",
    "    def __init__(self, name, idnumber, salary, post):\n",
    "        self.salary = salary\n",
    "        self.post = post\n",
    " \n",
    "        # invoking the __init__ of the parent class\n",
    "        Person.__init__(self, name, idnumber)\n",
    "         \n",
    "    def details(self):\n",
    "        print(\"My name is {}\".format(self.name))\n",
    "        print(\"IdNumber: {}\".format(self.idnumber))\n",
    "        print(\"Post: {}\".format(self.post))\n",
    " \n",
    " \n",
    "# creation of an object variable or an instance\n",
    "a = Employee('Rahul', 886012, 200000, \"Intern\")\n",
    " \n",
    "# calling a function of the class Person using\n",
    "# its instance\n",
    "a.display()\n",
    "a.details()"
   ]
  },
  {
   "cell_type": "markdown",
   "id": "cfec4f54",
   "metadata": {},
   "source": [
    "### Polymorphism"
   ]
  },
  {
   "cell_type": "code",
   "execution_count": 27,
   "id": "b72218e2",
   "metadata": {},
   "outputs": [
    {
     "name": "stdout",
     "output_type": "stream",
     "text": [
      "There are many types of birds.\n",
      "Most of the birds can fly but some cannot.\n",
      "There are many types of birds.\n",
      "Sparrows can fly.\n",
      "There are many types of birds.\n",
      "Ostriches cannot fly.\n"
     ]
    }
   ],
   "source": [
    "# Polymorphism simply means having many forms. For example, we need to determine\n",
    "# if the given species of birds fly or not, using polymorphism we can do this using a single function.\n",
    "class Bird:\n",
    "   \n",
    "    def intro(self):\n",
    "        print(\"There are many types of birds.\")\n",
    " \n",
    "    def flight(self):\n",
    "        print(\"Most of the birds can fly but some cannot.\")\n",
    " \n",
    "class sparrow(Bird):\n",
    "   \n",
    "    def flight(self):\n",
    "        print(\"Sparrows can fly.\")\n",
    " \n",
    "class ostrich(Bird):\n",
    " \n",
    "    def flight(self):\n",
    "        print(\"Ostriches cannot fly.\")\n",
    "        \n",
    "obj_bird = Bird()\n",
    "obj_spr = sparrow()\n",
    "obj_ost = ostrich()\n",
    " \n",
    "obj_bird.intro()\n",
    "obj_bird.flight()\n",
    " \n",
    "obj_spr.intro()\n",
    "obj_spr.flight()\n",
    " \n",
    "obj_ost.intro()\n",
    "obj_ost.flight()        \n"
   ]
  },
  {
   "cell_type": "markdown",
   "id": "68b7aeac",
   "metadata": {},
   "source": [
    "#### Encapsulation"
   ]
  },
  {
   "cell_type": "code",
   "execution_count": 28,
   "id": "60d382c6",
   "metadata": {},
   "outputs": [
    {
     "name": "stdout",
     "output_type": "stream",
     "text": [
      "Lalit+Aaswal\n"
     ]
    }
   ],
   "source": [
    "# It describes the idea of wrapping data and the methods that work on data within one unit.\n",
    "# This puts restrictions on accessing variables\n",
    "# and methods directly and can prevent the accidental modification of data\n",
    "# Creating a Base class\n",
    "class Base:\n",
    "    def __init__(self):\n",
    "        self.a = \"LalitAaswal\"\n",
    "        self.__c = \"lalitaswal\"\n",
    " \n",
    "# Creating a derived class\n",
    "class Derived(Base):\n",
    "    def __init__(self):\n",
    " \n",
    "        # Calling constructor of\n",
    "        # Base class\n",
    "        Base.__init__(self)\n",
    "        print(\"Calling private member of base class: \")\n",
    "        print(self.__c)\n",
    " \n",
    " \n",
    "# Driver code\n",
    "obj1 = Base()\n",
    "print(obj1.a)"
   ]
  },
  {
   "cell_type": "code",
   "execution_count": null,
   "id": "cd0729f0",
   "metadata": {},
   "outputs": [],
   "source": []
  }
 ],
 "metadata": {
  "kernelspec": {
   "display_name": "Python 3 (ipykernel)",
   "language": "python",
   "name": "python3"
  },
  "language_info": {
   "codemirror_mode": {
    "name": "ipython",
    "version": 3
   },
   "file_extension": ".py",
   "mimetype": "text/x-python",
   "name": "python",
   "nbconvert_exporter": "python",
   "pygments_lexer": "ipython3",
   "version": "3.11.0"
  }
 },
 "nbformat": 4,
 "nbformat_minor": 5
}
