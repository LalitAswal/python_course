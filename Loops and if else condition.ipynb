{
 "cells": [
  {
   "cell_type": "markdown",
   "id": "1e76b12a",
   "metadata": {},
   "source": [
    "# LOOP in Python\n"
   ]
  },
  {
   "cell_type": "markdown",
   "id": "9bb3492f",
   "metadata": {},
   "source": [
    "## for loop"
   ]
  },
  {
   "cell_type": "code",
   "execution_count": 6,
   "id": "c2e57196",
   "metadata": {},
   "outputs": [
    {
     "name": "stdout",
     "output_type": "stream",
     "text": [
      "1\n",
      "4\n",
      "3\n",
      "5\n",
      "7\n",
      "2\n",
      "23\n",
      "####################################################################\n",
      "####################################################################\n",
      "############################range example###########################\n",
      "####################################################################\n",
      "1\n",
      "2\n",
      "3\n",
      "4\n"
     ]
    }
   ],
   "source": [
    "numbers =[1,4,3,5,7,2,23]\n",
    "for number in numbers:\n",
    "    print(number)# indentation is importanting in forloop\n",
    "\n",
    "print('####################################################################') \n",
    "print('####################################################################')    \n",
    "print('############################range example###########################')    \n",
    "print('####################################################################')    \n",
    "\n",
    "###### using range in for loop##############\n",
    "for value in range(1,5): # in range(start, last, step)\n",
    "    print(value)"
   ]
  },
  {
   "cell_type": "markdown",
   "id": "e5b9b50e",
   "metadata": {},
   "source": [
    "#### LIST CCOMPREHENSIONS"
   ]
  },
  {
   "cell_type": "code",
   "execution_count": 15,
   "id": "918fadc4",
   "metadata": {},
   "outputs": [
    {
     "name": "stdout",
     "output_type": "stream",
     "text": [
      "[1, 2, 3, 4]\n",
      "[1, 2, 3, 4]\n",
      "[2, 4, 6, 8, 10, 12, 14, 16, 18, 20]\n"
     ]
    }
   ],
   "source": [
    "# list comprehension allow you to generate list in just one line of code\n",
    "#example\n",
    "#without list comprehension\n",
    "y=[]\n",
    "for x in range(1,5):\n",
    "    y.append(x)\n",
    "print(y)\n",
    "\n",
    "# using list comprehension\n",
    "x=[y for y in range(1,5)] # [value then forloop]\n",
    "print(x)\n",
    "\n",
    "# creating square using list comprehension\n",
    "square =[ value*2 for value in range(1,11)]\n",
    "print(square)"
   ]
  },
  {
   "cell_type": "markdown",
   "id": "3c742b3e",
   "metadata": {},
   "source": [
    "#### Questions"
   ]
  },
  {
   "cell_type": "code",
   "execution_count": 16,
   "id": "505421f5",
   "metadata": {},
   "outputs": [],
   "source": [
    "# Question 1) x=[1,3,4,23,5,3,6,7,8]  delete even index \n",
    "# Question 2) y=[4,5,6,3,1,7,4,2] add 8 in odd index element\n",
    "# Queston 3) create a list comprehension of even number till 21\n",
    "# Question 4) li = [1,2,3,4,5,6,7,8,9,10,11,12,13,14,15,16,17,18,19,10] print a list containing [8,9,10,11,12,13,14,15]\n",
    "# Question 5)Return every 2nd element in a list between 2 indices z= [1,2,3,4,5,6,7,8,9,10,11,12,13,14,15,16,17,18,19,10] \n",
    "#output [11, 13, 15]\n",
    "# Question 6) Get the first element from each nested list in a list li = [[1,2,3],[4,5,6],[7,8,9],[10,11,12],[13,14,15]]"
   ]
  },
  {
   "cell_type": "markdown",
   "id": "6047829c",
   "metadata": {},
   "source": [
    "## IF and else condition"
   ]
  },
  {
   "cell_type": "code",
   "execution_count": null,
   "id": "f945c298",
   "metadata": {},
   "outputs": [],
   "source": [
    "# Python Conditions and If statements\n",
    "# Python supports the usual logical conditions from mathematics:\n",
    "\n",
    "# Equals: a == b\n",
    "# Not Equals: a != b\n",
    "# Less than: a < b\n",
    "# Less than or equal to: a <= b\n",
    "# Greater than: a > b\n",
    "# Greater than or equal to: a >= b\n",
    "# example of if else condition\n",
    "a=int(input('enter value for a= '))\n",
    "b=int(input('enter value for b='))\n",
    "if(a>b):\n",
    "    print('a is greater than b')\n",
    "else:\n",
    "    print('b is greater than a')\n",
    "    \n",
    "# nested if esif else\n",
    "# syntax \n",
    "if( condition):\n",
    "    result\n",
    "elif( condition):\n",
    "    result\n",
    "else:\n",
    "    result"
   ]
  },
  {
   "cell_type": "code",
   "execution_count": null,
   "id": "0955fd5f",
   "metadata": {},
   "outputs": [],
   "source": [
    "# nested if else condition question\n",
    "#Q1. Write a program to check whether a number is divisible by 7 or not.\n",
    "#Q2. Write a program to check whether a number entered by user is even or odd\n",
    "#Q3. Write a program to calculate the electricity bill (accept number of unit from user) according to the following criteria :\n",
    "#              Unit                                                     Price  \n",
    "# First 100 units                                               no charge\n",
    "# Next 100 units                                              Rs 5 per unit\n",
    "# After 200 units                                             Rs 10 per unit\n",
    "# (For example if input unit is 350 than total bill amount is Rs2000)\n",
    "# Q4. Write a program to accept a number from 1 to 12 and display name of the\n",
    "# month and days in that month like 1 for January and number of days 31 and so on\n",
    "# Q5 Write a program to accept the cost price of a bike and display the road tax to be paid according to the following criteria :\n",
    "# &nbsp;&nbsp; &nbsp;\n",
    "#         Cost price (in Rs)                                       Tax\n",
    "#         &gt; 100000                                                  15 %\n",
    "#         &gt; 50000 and &lt;= 100000                          10%\n",
    "#         &lt;= 50000                                                  5%"
   ]
  },
  {
   "cell_type": "code",
   "execution_count": null,
   "id": "4cdf4b47",
   "metadata": {},
   "outputs": [],
   "source": []
  }
 ],
 "metadata": {
  "kernelspec": {
   "display_name": "Python 3 (ipykernel)",
   "language": "python",
   "name": "python3"
  },
  "language_info": {
   "codemirror_mode": {
    "name": "ipython",
    "version": 3
   },
   "file_extension": ".py",
   "mimetype": "text/x-python",
   "name": "python",
   "nbconvert_exporter": "python",
   "pygments_lexer": "ipython3",
   "version": "3.11.0"
  }
 },
 "nbformat": 4,
 "nbformat_minor": 5
}
