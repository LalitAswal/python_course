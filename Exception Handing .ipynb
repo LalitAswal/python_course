{
 "cells": [
  {
   "cell_type": "code",
   "execution_count": 6,
   "id": "284428b5",
   "metadata": {
    "scrolled": false
   },
   "outputs": [
    {
     "name": "stdout",
     "output_type": "stream",
     "text": [
      "Enter first number10\n",
      "Enter 2nd number0\n"
     ]
    },
    {
     "ename": "ZeroDivisionError",
     "evalue": "division by zero",
     "output_type": "error",
     "traceback": [
      "\u001b[1;31m---------------------------------------------------------------------------\u001b[0m",
      "\u001b[1;31mZeroDivisionError\u001b[0m                         Traceback (most recent call last)",
      "Cell \u001b[1;32mIn [6], line 13\u001b[0m\n\u001b[0;32m     11\u001b[0m x\u001b[38;5;241m=\u001b[39m\u001b[38;5;28mint\u001b[39m(\u001b[38;5;28minput\u001b[39m(\u001b[38;5;124m'\u001b[39m\u001b[38;5;124mEnter first number\u001b[39m\u001b[38;5;124m'\u001b[39m))\n\u001b[0;32m     12\u001b[0m y\u001b[38;5;241m=\u001b[39m \u001b[38;5;28mint\u001b[39m(\u001b[38;5;28minput\u001b[39m(\u001b[38;5;124m'\u001b[39m\u001b[38;5;124mEnter 2nd number\u001b[39m\u001b[38;5;124m'\u001b[39m))\n\u001b[1;32m---> 13\u001b[0m \u001b[38;5;28mprint\u001b[39m(\u001b[38;5;124m'\u001b[39m\u001b[38;5;124mthe result is:::\u001b[39m\u001b[38;5;124m'\u001b[39m, \u001b[43mx\u001b[49m\u001b[38;5;241;43m/\u001b[39;49m\u001b[43my\u001b[49m)\n",
      "\u001b[1;31mZeroDivisionError\u001b[0m: division by zero"
     ]
    }
   ],
   "source": [
    "# type of error \n",
    "## Syntax Error\n",
    "#example \n",
    "# x=10\n",
    "# if x==10 # colon is missing\n",
    "#     print('value of x is {x}')\n",
    "\n",
    "    \n",
    "## runtime Error also know as exception in different language\n",
    "#example \n",
    "x=int(input('Enter first number'))\n",
    "y= int(input('Enter 2nd number'))\n",
    "print('the result is:::', x/y)\n",
    "# Enter first number10\n",
    "# Enter 2nd number0\n",
    "# ZeroDivisionError: division by zero"
   ]
  },
  {
   "cell_type": "code",
   "execution_count": null,
   "id": "d0d4dabd",
   "metadata": {},
   "outputs": [],
   "source": [
    "# try and except\n",
    "x=int(input('Enter first number'))\n",
    "y= int(input('Enter 2nd number'))\n",
    "try:\n",
    "    print(x/y)\n",
    "except ZeroDivisionError as msg:# as name have to use if you want to print error name\n",
    "    \n",
    "    print(msg.__class__)\n",
    "    print(msg.__class__.__name__)  \n",
    "# Enter first number10\n",
    "Enter 2nd number0\n",
    "<class 'ZeroDivisionError'>\n",
    "ZeroDivisionError\n",
    "\n",
    "## user define error\n",
    "# x=int(input('Enter first number'))\n",
    "# y= int(input('Enter 2nd number'))\n",
    "# try:\n",
    "#     print(x/y)\n",
    "# except ZeroDivisionError as msg:\n",
    "#     # as name have to use if you want to print error name\n",
    "#     raise TypeError(' cant not divide by zero')\n",
    "#     print(msg.__class__)\n",
    "#     print(msg.__class__.__name__) \n",
    "x = \"hello\"\n",
    "if not type(x) is int:\n",
    "  raise TypeError(\"Only integers are allowed\")// "
   ]
  },
  {
   "cell_type": "code",
   "execution_count": null,
   "id": "5dfef9a4",
   "metadata": {},
   "outputs": [],
   "source": []
  },
  {
   "cell_type": "code",
   "execution_count": null,
   "id": "2bb601a1",
   "metadata": {},
   "outputs": [],
   "source": []
  }
 ],
 "metadata": {
  "kernelspec": {
   "display_name": "Python 3 (ipykernel)",
   "language": "python",
   "name": "python3"
  },
  "language_info": {
   "codemirror_mode": {
    "name": "ipython",
    "version": 3
   },
   "file_extension": ".py",
   "mimetype": "text/x-python",
   "name": "python",
   "nbconvert_exporter": "python",
   "pygments_lexer": "ipython3",
   "version": "3.11.0"
  }
 },
 "nbformat": 4,
 "nbformat_minor": 5
}
